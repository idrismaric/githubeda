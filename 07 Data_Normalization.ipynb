{
 "cells": [
  {
   "cell_type": "code",
   "execution_count": 1,
   "metadata": {},
   "outputs": [],
   "source": [
    "# Standardization/Normalization\n",
    "# Standard Scaler: It useses N classes to negative -1. It works on z value\n",
    "#min max scaler formula : xi-min(x)/max(x)-min(x) minimum value for this scaller is allways 0 and maximum is allways 1\n",
    "# When ever you have outlier in your data do not use min-max scaler\n",
    "# Robust scaler : can be used when we need to work with data which have more outliers\n",
    "# xi-Q1(x)/Q3(x)-Q1(x) for each feature\n",
    "# Normalizer Scaler : \n",
    "\n",
    "import pandas as pd;\n",
    "from sklearn.preprocessing import StandardScaler"
   ]
  },
  {
   "cell_type": "code",
   "execution_count": null,
   "metadata": {},
   "outputs": [],
   "source": [
    "#IQR = (Q3-Q1)\n",
    "#upper = Q3 + 1.5 * IQR\n",
    "#lower = Q1 - 1.5 * IQR\n",
    "\n",
    "data3 = pd.read_csv('market_data.csv')\n",
    "data"
   ]
  }
 ],
 "metadata": {
  "kernelspec": {
   "display_name": "Python 3",
   "language": "python",
   "name": "python3"
  },
  "language_info": {
   "codemirror_mode": {
    "name": "ipython",
    "version": 3
   },
   "file_extension": ".py",
   "mimetype": "text/x-python",
   "name": "python",
   "nbconvert_exporter": "python",
   "pygments_lexer": "ipython3",
   "version": "3.8.3"
  }
 },
 "nbformat": 4,
 "nbformat_minor": 4
}
